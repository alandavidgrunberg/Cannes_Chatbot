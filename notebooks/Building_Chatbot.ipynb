{
 "cells": [
  {
   "cell_type": "code",
   "execution_count": 11,
   "id": "b8bb554c",
   "metadata": {},
   "outputs": [],
   "source": [
    "import gradio as gr\n",
    "import pandas as pd\n",
    "import time\n",
    "\n",
    "from langchain.llms import OpenAI\n",
    "from langchain.memory import ConversationBufferWindowMemory\n",
    "from langchain.chains import LLMChain\n",
    "\n",
    "from langchain.llms import OpenAI\n",
    "from langchain.agents import create_pandas_dataframe_agent, Tool, ZeroShotAgent, AgentExecutor\n",
    "from langchain.document_loaders import DirectoryLoader\n",
    "from langchain.indexes import VectorstoreIndexCreator\n",
    "from langchain.text_splitter import TokenTextSplitter"
   ]
  },
  {
   "cell_type": "code",
   "execution_count": 17,
   "id": "65c2d61e",
   "metadata": {},
   "outputs": [
    {
     "name": "stderr",
     "output_type": "stream",
     "text": [
      "Using embedded DuckDB without persistence: data will be transient\n",
      "Using embedded DuckDB without persistence: data will be transient\n"
     ]
    }
   ],
   "source": [
    "### CREATING DATAFRAME AGENT:\n",
    "\n",
    "df = pd.read_csv('data/complete_data_one_hot.csv')\n",
    "# ^dataframe of all movies\n",
    "# English title, Original title, Director(s), Production countrie(s), + 11 screening categories (one hot encoded)\n",
    "\n",
    "with open('data/df_agent_prefix.txt', 'r') as file:\n",
    "    df_agent_prefix = file.read()\n",
    "# ^prefix is prompt that is fed to the bot prepending user's question every time agent used. See text file for content\n",
    "\n",
    "df_agent = create_pandas_dataframe_agent(OpenAI(temperature=0), df, prefix=df_agent_prefix, verbose=True)\n",
    "# ^create agent (tool for the bot to use) which can read dataframes in a virtual python repl\n",
    "\n",
    "\n",
    "### CREATING TEXT VECTORSTORES:\n",
    "\n",
    "wiki_film_loader = DirectoryLoader(\"data/film_summaries/from_wikipedia\", glob=\"*.txt\")\n",
    "# # ^loading movie summaries (pre-scraped from wikipedia)\n",
    "search_film_loader = DirectoryLoader(\"data/film_summaries/from_search\", glob=\"*.txt\")\n",
    " # ^loading more movie summaries (pre-scraped from google search top result)\n",
    "\n",
    "festival_info_loader = DirectoryLoader(\"data/festival_info\", glob=\"*.txt\")\n",
    " # ^loading festival info (pre-scraped from google search top result)\n",
    "\n",
    "film_summaries_index = VectorstoreIndexCreator(text_splitter=TokenTextSplitter(chunk_size=500, chunk_overlap=20)).from_loaders([wiki_film_loader, search_film_loader])\n",
    "# # ^creating vector index of movie summaries\n",
    "\n",
    "festival_info_index = VectorstoreIndexCreator(text_splitter=TokenTextSplitter(chunk_size=200, chunk_overlap=20)).from_loaders([festival_info_loader])\n",
    "# ^creating vector index of movie summaries\n",
    "\n",
    "\n",
    "\n",
    "### PUTTING TOOLBOX TOGETHER:\n",
    "\n",
    "tools = []\n",
    "\n",
    "tools.append(\n",
    "    Tool(\n",
    "        name=\"python_repl_ast\",\n",
    "        func=df_agent.run,\n",
    "        description=\"Useful when you need to count movies, directors, countries, etc. at the upcoming Cannes Film Festival. Useful when asked 'How many' Do not use for finding film genres. Do not use for questions about juries or the red carpet.\",\n",
    "        verbose = True # change to false to not show agent 'thinking' through its actions, and just output final answer\n",
    "        )\n",
    ")\n",
    "\n",
    "tools.append(\n",
    "    Tool(\n",
    "        name=\"film summaries\",\n",
    "        func=film_summaries_index.query,\n",
    "        description=\"Useful when you are asked about the plot of a film at the upcoming Cannes Film Festival, the actors in the film, and the film's genre. Use for finding film genres. Do not use for questions about juries or the red carpet=.\",\n",
    "        verbose = True # change to false to not show agent 'thinking' through its actions, and just output final answer\n",
    "        )\n",
    ")\n",
    "\n",
    "tools.append(\n",
    "    Tool(\n",
    "        name=\"festival general info\",\n",
    "        func=festival_info_index.query,\n",
    "        description=\"Useful when you are asked for general info about the upcoming Cannes Film Festival, such as: When it will take place? Who will judge the films? Who is on the jury? Who was on the red carpet?\",\n",
    "        verbose = True # change to false to not show agent 'thinking' through its actions, and just output final answer\n",
    "        )\n",
    ")\n",
    "# ^bot will pick which tool to use depending on the question asked and the tool description\n",
    "\n",
    "### BUILDING MEMORY CHAIN\n",
    "prefix = \"\"\"Have a conversation with a human, answering the following questions about the upcoming Cannes Film Festival as best you can. You have access to the following tools:\"\"\"\n",
    "suffix = \"\"\"Begin!\"\n",
    "\n",
    "{chat_history}\n",
    "Question: {input}\n",
    "{agent_scratchpad}\"\"\"\n",
    "\n",
    "prompt = ZeroShotAgent.create_prompt(\n",
    "    tools,\n",
    "    prefix=prefix,\n",
    "    suffix=suffix,\n",
    "    input_variables=[\"input\", \"chat_history\", \"agent_scratchpad\"]\n",
    ")\n",
    "memory = ConversationBufferWindowMemory(memory_key=\"chat_history\", return_messages=True, k=3)\n",
    "\n",
    "### CREATING MASTER AGENT CHAIN WITH MEMORY AND ACCESS TO TOOLBOX\n",
    "\n",
    "llm_chain = LLMChain(llm=OpenAI(temperature=0), prompt=prompt)\n",
    "agent = ZeroShotAgent(llm_chain=llm_chain, tools=tools, verbose=True)\n",
    "agent_chain = AgentExecutor.from_agent_and_tools(agent=agent, tools=tools, verbose=True, memory=memory)\n",
    "# ^agentchain ready for queries\n"
   ]
  },
  {
   "cell_type": "code",
   "execution_count": 79,
   "id": "bef92639",
   "metadata": {},
   "outputs": [
    {
     "name": "stdout",
     "output_type": "stream",
     "text": [
      "Running on local URL:  http://127.0.0.1:7905\n",
      "\n",
      "To create a public link, set `share=True` in `launch()`.\n"
     ]
    },
    {
     "data": {
      "text/html": [
       "<div><iframe src=\"http://127.0.0.1:7905/\" width=\"100%\" height=\"500\" allow=\"autoplay; camera; microphone; clipboard-read; clipboard-write;\" frameborder=\"0\" allowfullscreen></iframe></div>"
      ],
      "text/plain": [
       "<IPython.core.display.HTML object>"
      ]
     },
     "metadata": {},
     "output_type": "display_data"
    },
    {
     "data": {
      "text/plain": []
     },
     "execution_count": 79,
     "metadata": {},
     "output_type": "execute_result"
    }
   ],
   "source": [
    "### CONNECTING MODEL TO GRADIO FRONTEND\n",
    "\n",
    "spacing = \"<br>\"\n",
    "header_content = \"<p style='text-align: center;''>Hello there! I am a conversation bot trained on Cannes 2023 data a few weeks before the festival. I was designed to help cinephiles learn more before the big event. Ask me about the festival as if it hasn’t happened yet and you’d like to learn more. I’ll be happy to answer your questions.</p>\"\n",
    "footer_content = \"<p style='text-align: center;''>Check out my <a href='https://duckduckgo.com'>GitHub Repo</a> to learn how I was created.</p>\"\n",
    "\n",
    "with gr.Blocks(title=\"Cannes 2023 Q&A\", theme=\"gradio/monochrome\") as demo:\n",
    "    spacer = gr.Markdown(spacing)\n",
    "    header = gr.Markdown(header_content)\n",
    "    chatbot = gr.Chatbot(label = 'Cannes Bot')\n",
    "    textbox = gr.Textbox(label = 'Input:', value = 'Tell me about the upcoming festival!')\n",
    "    button = gr.Button(\"Submit\")\n",
    "    clear = gr.ClearButton([textbox, chatbot])\n",
    "    footer = gr.Markdown(footer_content)\n",
    "    spacer = gr.Markdown(spacing)\n",
    "\n",
    "    def user(user_message, history):\n",
    "        return gr.update(value=\"\", interactive=False), history + [[user_message, None]]\n",
    "\n",
    "    def bot(history):\n",
    "        bot_message = agent_chain.run(f\"Answer the following question using the tools provided. Do not make up the answer if you can't find it using the tools. Always talk about the festival in the future tense, it hasn't happened yet. Question: {history[-1][0]}\")\n",
    "                                        # where the magic happens (connecting model)\n",
    "        history[-1][1] = \"\"\n",
    "        for character in bot_message:\n",
    "            history[-1][1] += character\n",
    "            time.sleep(0.03)\n",
    "            yield history\n",
    "\n",
    "    response = textbox.submit(user, inputs=[textbox, chatbot], outputs=[textbox, chatbot], queue=False).then(\n",
    "        bot, inputs=chatbot, outputs=chatbot\n",
    "    )\n",
    "    response.then(lambda: gr.update(interactive=True), None, [textbox], queue=False)\n",
    "    \n",
    "    response = button.click(user, inputs=[textbox, chatbot], outputs=[textbox, chatbot], queue=False).then(\n",
    "        bot, inputs=chatbot, outputs=chatbot\n",
    "    )\n",
    "    response.then(lambda: gr.update(interactive=True), None, [textbox], queue=False)\n",
    "\n",
    "demo.queue()\n",
    "demo.launch()"
   ]
  }
 ],
 "metadata": {
  "kernelspec": {
   "display_name": "Python 3 (ipykernel)",
   "language": "python",
   "name": "python3"
  },
  "language_info": {
   "codemirror_mode": {
    "name": "ipython",
    "version": 3
   },
   "file_extension": ".py",
   "mimetype": "text/x-python",
   "name": "python",
   "nbconvert_exporter": "python",
   "pygments_lexer": "ipython3",
   "version": "3.10.6"
  },
  "toc": {
   "base_numbering": 1,
   "nav_menu": {},
   "number_sections": true,
   "sideBar": true,
   "skip_h1_title": false,
   "title_cell": "Table of Contents",
   "title_sidebar": "Contents",
   "toc_cell": false,
   "toc_position": {},
   "toc_section_display": true,
   "toc_window_display": false
  }
 },
 "nbformat": 4,
 "nbformat_minor": 5
}
